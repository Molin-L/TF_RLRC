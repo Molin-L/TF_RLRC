{
 "cells": [
  {
   "cell_type": "code",
   "execution_count": null,
   "metadata": {},
   "outputs": [],
   "source": [
    "import pickle\n",
    "import numpy as np\n",
    "import matplotlib.pyplot as plt"
   ]
  },
  {
   "cell_type": "code",
   "execution_count": null,
   "metadata": {},
   "outputs": [],
   "source": [
    "from test import PR_curve\n",
    "from test import produce_label_data"
   ]
  },
  {
   "cell_type": "code",
   "execution_count": null,
   "metadata": {
    "tags": []
   },
   "outputs": [],
   "source": [
    "num_total = produce_label_data()\n",
    "Precision, Recall = PR_curve(label_path='data/label_entitypair.pkl',pred_path='result/best_pred_entitypair.pkl',num_total=num_total)\n",
    "\n",
    "Precision1, Recall1 = PR_curve(label_path='data/label_entitypair.pkl', pred_path='result/origin_pred_entitypair.pkl',\n",
    "                                 num_total=num_total)\n",
    "                                "
   ]
  },
  {
   "cell_type": "code",
   "execution_count": null,
   "metadata": {},
   "outputs": [],
   "source": [
    "plt.figure()\n",
    "#plt.xlim([0.0, 1])\n",
    "#plt.ylim([0.0, 1.05])\n",
    "plt.xlabel('Recall')\n",
    "plt.ylabel('Precision')\n",
    "plt.step(Recall, Precision, color='orange', label='CNN+RL')\n",
    "plt.step(Recall1, Precision1, color='grey', label='CNN')\n",
    "plt.legend()"
   ]
  },
  {
   "cell_type": "code",
   "execution_count": null,
   "metadata": {
    "tags": []
   },
   "outputs": [],
   "source": [
    "test_y = np.load('data/testall_y.npy')\n",
    "print(test_y.shape)"
   ]
  },
  {
   "cell_type": "code",
   "execution_count": null,
   "metadata": {
    "tags": []
   },
   "outputs": [],
   "source": [
    "a = Precision[-1]\n",
    "b = Recall[-1]\n",
    "print(2*a*b/(a+b))"
   ]
  },
  {
   "cell_type": "code",
   "execution_count": null,
   "metadata": {},
   "outputs": [],
   "source": [
    "label_path = 'data/label_entitypair.pkl'\n",
    "pred_path = 'result/best_pred_entitypair.pkl'\n",
    "\n",
    "with open(label_path, 'rb') as input:\n",
    "    label_entity_pair = pickle.load(input)\n",
    "with open(pred_path, 'rb') as input:\n",
    "    pred_entity_pair = pickle.load(input)\n",
    "\n",
    "\n"
   ]
  }
 ],
 "metadata": {
  "language_info": {
   "codemirror_mode": {
    "name": "ipython",
    "version": 3
   },
   "file_extension": ".py",
   "mimetype": "text/x-python",
   "name": "python",
   "nbconvert_exporter": "python",
   "pygments_lexer": "ipython3",
   "version": 3
  },
  "orig_nbformat": 2,
  "kernelspec": {
   "name": "python_defaultSpec_1594587095868",
   "display_name": "Python 3.7.5 64-bit"
  }
 },
 "nbformat": 4,
 "nbformat_minor": 2
}